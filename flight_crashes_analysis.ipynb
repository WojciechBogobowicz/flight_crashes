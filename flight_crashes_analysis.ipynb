{
 "cells": [
  {
   "cell_type": "code",
   "execution_count": 2,
   "metadata": {},
   "outputs": [],
   "source": [
    "import pandas as pd\n",
    "import numpy as np\n",
    "import matplotlib.pyplot as plt\n",
    "import re\n",
    "import requests\n",
    "\n",
    "# plt.style.available\n",
    "plt.style.use(\"seaborn-v0_8-deep\")"
   ]
  },
  {
   "cell_type": "code",
   "execution_count": 3,
   "metadata": {},
   "outputs": [],
   "source": [
    "wiki_url = \"http://pl.wikipedia.org/wiki/Katastrofy_i_incydenty_cywilnych_samolot%C3%B3w_pasa%C5%BCerskich#2023\""
   ]
  },
  {
   "cell_type": "code",
   "execution_count": 4,
   "metadata": {},
   "outputs": [],
   "source": [
    "tables = pd.read_html(wiki_url)"
   ]
  },
  {
   "cell_type": "code",
   "execution_count": 5,
   "metadata": {},
   "outputs": [
    {
     "data": {
      "text/plain": [
       "(97, 98)"
      ]
     },
     "execution_count": 5,
     "metadata": {},
     "output_type": "execute_result"
    }
   ],
   "source": [
    "raw_html = requests.get(wiki_url).text\n",
    "pattern = '<a class=\"vector-toc-link\" href=\"#(\\d+)\"'\n",
    "toc = list(map(int, re.findall(pattern, raw_html)))\n",
    "\n",
    "\n",
    "len(toc), len(tables)"
   ]
  },
  {
   "cell_type": "code",
   "execution_count": 6,
   "metadata": {},
   "outputs": [],
   "source": [
    "crashes = tables[1:]\n",
    "\n",
    "for crash, year in zip(crashes, toc):\n",
    "    crash[\"Rok\"] = year\n",
    "\n",
    "crashes_df = pd.concat(crashes, axis='rows')\n",
    "crashes_df.drop('Unnamed: 9', axis=1, inplace=True)\n",
    "crashes_df.drop('Zobacz więcej', axis=1, inplace=True)\n",
    "crashes_df.drop('Numer lotu', axis=1, inplace=True)\n",
    "crashes_df.drop('L.P', axis=1, inplace=True)\n",
    "crashes_df.drop(\"Nr rej.\", axis=1, inplace=True)\n",
    "crashes_df.drop(\"Data\", axis=1, inplace=True)\n",
    "crashes_df.columns\n",
    "crashes_df.reset_index(inplace=True)\n",
    "crashes_df.drop(columns=[\"index\"], inplace=True)"
   ]
  },
  {
   "cell_type": "code",
   "execution_count": 7,
   "metadata": {},
   "outputs": [
    {
     "data": {
      "text/html": [
       "<div>\n",
       "<style scoped>\n",
       "    .dataframe tbody tr th:only-of-type {\n",
       "        vertical-align: middle;\n",
       "    }\n",
       "\n",
       "    .dataframe tbody tr th {\n",
       "        vertical-align: top;\n",
       "    }\n",
       "\n",
       "    .dataframe thead th {\n",
       "        text-align: right;\n",
       "    }\n",
       "</style>\n",
       "<table border=\"1\" class=\"dataframe\">\n",
       "  <thead>\n",
       "    <tr style=\"text-align: right;\">\n",
       "      <th></th>\n",
       "      <th>Miejsce zdarzenia</th>\n",
       "      <th>Linia lotnicza</th>\n",
       "      <th>Samolot</th>\n",
       "      <th>Ofiary</th>\n",
       "      <th>Ocaleni</th>\n",
       "      <th>Rok</th>\n",
       "    </tr>\n",
       "  </thead>\n",
       "  <tbody>\n",
       "    <tr>\n",
       "      <th>0</th>\n",
       "      <td>Włochy</td>\n",
       "      <td>Caproni</td>\n",
       "      <td>Caproni Ca.48</td>\n",
       "      <td>14, 15 lub 17</td>\n",
       "      <td>0</td>\n",
       "      <td>1919</td>\n",
       "    </tr>\n",
       "    <tr>\n",
       "      <th>1</th>\n",
       "      <td>Francja</td>\n",
       "      <td>Daimler Airway</td>\n",
       "      <td>de Havilland DH-18A</td>\n",
       "      <td>2</td>\n",
       "      <td>0</td>\n",
       "      <td>1922</td>\n",
       "    </tr>\n",
       "    <tr>\n",
       "      <th>2</th>\n",
       "      <td>Francja</td>\n",
       "      <td>CGEA</td>\n",
       "      <td>Farman F-68 Goliath</td>\n",
       "      <td>5</td>\n",
       "      <td>0</td>\n",
       "      <td>1922</td>\n",
       "    </tr>\n",
       "    <tr>\n",
       "      <th>3</th>\n",
       "      <td>Stany Zjednoczone</td>\n",
       "      <td>Aeromarine East Indies Airways</td>\n",
       "      <td>Aeromarine 75</td>\n",
       "      <td>4</td>\n",
       "      <td>5</td>\n",
       "      <td>1923</td>\n",
       "    </tr>\n",
       "    <tr>\n",
       "      <th>4</th>\n",
       "      <td>Francja</td>\n",
       "      <td>Air Union</td>\n",
       "      <td>Farman F-60 Goliath</td>\n",
       "      <td>2</td>\n",
       "      <td>4</td>\n",
       "      <td>1923</td>\n",
       "    </tr>\n",
       "  </tbody>\n",
       "</table>\n",
       "</div>"
      ],
      "text/plain": [
       "   Miejsce zdarzenia                  Linia lotnicza              Samolot   \n",
       "0             Włochy                         Caproni        Caproni Ca.48  \\\n",
       "1            Francja                  Daimler Airway  de Havilland DH-18A   \n",
       "2            Francja                            CGEA  Farman F-68 Goliath   \n",
       "3  Stany Zjednoczone  Aeromarine East Indies Airways        Aeromarine 75   \n",
       "4            Francja                       Air Union  Farman F-60 Goliath   \n",
       "\n",
       "          Ofiary Ocaleni   Rok  \n",
       "0  14, 15 lub 17       0  1919  \n",
       "1              2       0  1922  \n",
       "2              5       0  1922  \n",
       "3              4       5  1923  \n",
       "4              2       4  1923  "
      ]
     },
     "execution_count": 7,
     "metadata": {},
     "output_type": "execute_result"
    }
   ],
   "source": [
    "crashes_df.head()"
   ]
  },
  {
   "attachments": {},
   "cell_type": "markdown",
   "metadata": {},
   "source": [
    "# Data cleaning\n",
    "## Victims"
   ]
  },
  {
   "cell_type": "code",
   "execution_count": 8,
   "metadata": {},
   "outputs": [
    {
     "data": {
      "text/plain": [
       "array(['14, 15 lub 17', '?', '237[a]', nan, '92*', '65*', '64*', '44*',\n",
       "       0.0, 90.0, 7.0, 103.0, 8.0, 44.0, 158.0, 152.0, 2.0, 12.0, 42.0,\n",
       "       14.0, 20.0, 17.0, 68.0, 21.0, 22.0, '239[b]', '39[c]',\n",
       "       '2 (na ziemi)'], dtype=object)"
      ]
     },
     "execution_count": 8,
     "metadata": {},
     "output_type": "execute_result"
    }
   ],
   "source": [
    "# Non numeric values to preprocess\n",
    "def find_non_numerical_unique_values(ds: pd.Series) -> np.array:\n",
    "    return ds[~ds.astype(str).str.isnumeric()].unique()\n",
    "    \n",
    "find_non_numerical_unique_values(crashes_df[\"Ofiary\"])"
   ]
  },
  {
   "cell_type": "code",
   "execution_count": 9,
   "metadata": {},
   "outputs": [
    {
     "data": {
      "text/plain": [
       "array([''], dtype=object)"
      ]
     },
     "execution_count": 9,
     "metadata": {},
     "output_type": "execute_result"
    }
   ],
   "source": [
    "def extract_first_numbers(ds: pd.Series) -> np.array:\n",
    "    return ds.astype(str).apply(lambda x: re.match(r'^(\\d*)', x).group(1))\n",
    "\n",
    "find_non_numerical_unique_values(\n",
    "    extract_first_numbers(crashes_df[\"Ofiary\"])\n",
    ")"
   ]
  },
  {
   "cell_type": "code",
   "execution_count": 10,
   "metadata": {},
   "outputs": [
    {
     "data": {
      "text/html": [
       "<div>\n",
       "<style scoped>\n",
       "    .dataframe tbody tr th:only-of-type {\n",
       "        vertical-align: middle;\n",
       "    }\n",
       "\n",
       "    .dataframe tbody tr th {\n",
       "        vertical-align: top;\n",
       "    }\n",
       "\n",
       "    .dataframe thead th {\n",
       "        text-align: right;\n",
       "    }\n",
       "</style>\n",
       "<table border=\"1\" class=\"dataframe\">\n",
       "  <thead>\n",
       "    <tr style=\"text-align: right;\">\n",
       "      <th></th>\n",
       "      <th>Miejsce zdarzenia</th>\n",
       "      <th>Linia lotnicza</th>\n",
       "      <th>Samolot</th>\n",
       "      <th>Ofiary</th>\n",
       "      <th>Ocaleni</th>\n",
       "      <th>Rok</th>\n",
       "    </tr>\n",
       "  </thead>\n",
       "  <tbody>\n",
       "    <tr>\n",
       "      <th>8</th>\n",
       "      <td>Stany Zjednoczone</td>\n",
       "      <td>TWA</td>\n",
       "      <td>Ford-4-AT-E-Trimotor</td>\n",
       "      <td></td>\n",
       "      <td>?</td>\n",
       "      <td>1931</td>\n",
       "    </tr>\n",
       "    <tr>\n",
       "      <th>9</th>\n",
       "      <td>Stany Zjednoczone</td>\n",
       "      <td>TWA</td>\n",
       "      <td>Ford-5-AT-B-Trimotor</td>\n",
       "      <td></td>\n",
       "      <td>?</td>\n",
       "      <td>1932</td>\n",
       "    </tr>\n",
       "    <tr>\n",
       "      <th>11</th>\n",
       "      <td>Stany Zjednoczone</td>\n",
       "      <td>TWA</td>\n",
       "      <td>Ford Trimotor</td>\n",
       "      <td></td>\n",
       "      <td>?</td>\n",
       "      <td>1933</td>\n",
       "    </tr>\n",
       "    <tr>\n",
       "      <th>14</th>\n",
       "      <td>Stany Zjednoczone</td>\n",
       "      <td>TWA</td>\n",
       "      <td>Douglas DC-2</td>\n",
       "      <td></td>\n",
       "      <td>?</td>\n",
       "      <td>1935</td>\n",
       "    </tr>\n",
       "    <tr>\n",
       "      <th>33</th>\n",
       "      <td>Stany Zjednoczone</td>\n",
       "      <td>TWA</td>\n",
       "      <td>Douglas DC-3</td>\n",
       "      <td></td>\n",
       "      <td>?</td>\n",
       "      <td>1941</td>\n",
       "    </tr>\n",
       "    <tr>\n",
       "      <th>45</th>\n",
       "      <td>Stany Zjednoczone</td>\n",
       "      <td>TWA</td>\n",
       "      <td>Douglas DC-3</td>\n",
       "      <td></td>\n",
       "      <td>?</td>\n",
       "      <td>1944</td>\n",
       "    </tr>\n",
       "    <tr>\n",
       "      <th>46</th>\n",
       "      <td>Stany Zjednoczone</td>\n",
       "      <td>TWA</td>\n",
       "      <td>Douglas DC-3</td>\n",
       "      <td></td>\n",
       "      <td>?</td>\n",
       "      <td>1944</td>\n",
       "    </tr>\n",
       "    <tr>\n",
       "      <th>48</th>\n",
       "      <td>Stany Zjednoczone</td>\n",
       "      <td>TWA</td>\n",
       "      <td>Douglas DC-3</td>\n",
       "      <td></td>\n",
       "      <td>?</td>\n",
       "      <td>1945</td>\n",
       "    </tr>\n",
       "    <tr>\n",
       "      <th>51</th>\n",
       "      <td>Stany Zjednoczone</td>\n",
       "      <td>TWA</td>\n",
       "      <td>Douglas DC-3</td>\n",
       "      <td></td>\n",
       "      <td>?</td>\n",
       "      <td>1946</td>\n",
       "    </tr>\n",
       "    <tr>\n",
       "      <th>54</th>\n",
       "      <td>Stany Zjednoczone</td>\n",
       "      <td>TWA</td>\n",
       "      <td>Lockheed Constellation</td>\n",
       "      <td></td>\n",
       "      <td>?</td>\n",
       "      <td>1946</td>\n",
       "    </tr>\n",
       "    <tr>\n",
       "      <th>55</th>\n",
       "      <td>Stany Zjednoczone</td>\n",
       "      <td>TWA</td>\n",
       "      <td>Lockheed Constellation</td>\n",
       "      <td></td>\n",
       "      <td>?</td>\n",
       "      <td>1947</td>\n",
       "    </tr>\n",
       "    <tr>\n",
       "      <th>61</th>\n",
       "      <td>Stany Zjednoczone</td>\n",
       "      <td>TWA</td>\n",
       "      <td>Lockheed Constellation</td>\n",
       "      <td></td>\n",
       "      <td>?</td>\n",
       "      <td>1947</td>\n",
       "    </tr>\n",
       "    <tr>\n",
       "      <th>72</th>\n",
       "      <td>Stany Zjednoczone</td>\n",
       "      <td>TWA</td>\n",
       "      <td>Lockheed Constellation</td>\n",
       "      <td></td>\n",
       "      <td>?</td>\n",
       "      <td>1948</td>\n",
       "    </tr>\n",
       "    <tr>\n",
       "      <th>76</th>\n",
       "      <td>Kanada</td>\n",
       "      <td>TWA</td>\n",
       "      <td>Douglas C-54 Skymaster</td>\n",
       "      <td></td>\n",
       "      <td>?</td>\n",
       "      <td>1949</td>\n",
       "    </tr>\n",
       "    <tr>\n",
       "      <th>141</th>\n",
       "      <td>Stany Zjednoczone</td>\n",
       "      <td>TWA</td>\n",
       "      <td>Lockheed Super Constellation</td>\n",
       "      <td></td>\n",
       "      <td>?</td>\n",
       "      <td>1959</td>\n",
       "    </tr>\n",
       "    <tr>\n",
       "      <th>274</th>\n",
       "      <td>Stany Zjednoczone</td>\n",
       "      <td>TWA</td>\n",
       "      <td>Boeing 707</td>\n",
       "      <td></td>\n",
       "      <td>?</td>\n",
       "      <td>1969</td>\n",
       "    </tr>\n",
       "    <tr>\n",
       "      <th>609</th>\n",
       "      <td>Stany Zjednoczone</td>\n",
       "      <td>Trans World Airlines</td>\n",
       "      <td>Boeing 767</td>\n",
       "      <td></td>\n",
       "      <td>?</td>\n",
       "      <td>1987</td>\n",
       "    </tr>\n",
       "    <tr>\n",
       "      <th>780</th>\n",
       "      <td>Chorwacja</td>\n",
       "      <td>USAF</td>\n",
       "      <td>Boeing Ct-43</td>\n",
       "      <td></td>\n",
       "      <td>NaN</td>\n",
       "      <td>1996</td>\n",
       "    </tr>\n",
       "    <tr>\n",
       "      <th>847</th>\n",
       "      <td>Stany Zjednoczone</td>\n",
       "      <td>TWA</td>\n",
       "      <td>McDonnell Douglas DC-9</td>\n",
       "      <td></td>\n",
       "      <td>?</td>\n",
       "      <td>1999</td>\n",
       "    </tr>\n",
       "    <tr>\n",
       "      <th>851</th>\n",
       "      <td>Stany Zjednoczone</td>\n",
       "      <td>Samolot prywatny || ? || Learjet 35|| N47BA ||...</td>\n",
       "      <td>NaN</td>\n",
       "      <td></td>\n",
       "      <td>NaN</td>\n",
       "      <td>1999</td>\n",
       "    </tr>\n",
       "    <tr>\n",
       "      <th>1081</th>\n",
       "      <td>NaN</td>\n",
       "      <td>NaN</td>\n",
       "      <td>NaN</td>\n",
       "      <td></td>\n",
       "      <td>NaN</td>\n",
       "      <td>2010</td>\n",
       "    </tr>\n",
       "  </tbody>\n",
       "</table>\n",
       "</div>"
      ],
      "text/plain": [
       "      Miejsce zdarzenia                                     Linia lotnicza   \n",
       "8     Stany Zjednoczone                                                TWA  \\\n",
       "9     Stany Zjednoczone                                                TWA   \n",
       "11    Stany Zjednoczone                                                TWA   \n",
       "14    Stany Zjednoczone                                                TWA   \n",
       "33    Stany Zjednoczone                                                TWA   \n",
       "45    Stany Zjednoczone                                                TWA   \n",
       "46    Stany Zjednoczone                                                TWA   \n",
       "48    Stany Zjednoczone                                                TWA   \n",
       "51    Stany Zjednoczone                                                TWA   \n",
       "54    Stany Zjednoczone                                                TWA   \n",
       "55    Stany Zjednoczone                                                TWA   \n",
       "61    Stany Zjednoczone                                                TWA   \n",
       "72    Stany Zjednoczone                                                TWA   \n",
       "76               Kanada                                                TWA   \n",
       "141   Stany Zjednoczone                                                TWA   \n",
       "274   Stany Zjednoczone                                                TWA   \n",
       "609   Stany Zjednoczone                               Trans World Airlines   \n",
       "780           Chorwacja                                               USAF   \n",
       "847   Stany Zjednoczone                                                TWA   \n",
       "851   Stany Zjednoczone  Samolot prywatny || ? || Learjet 35|| N47BA ||...   \n",
       "1081                NaN                                                NaN   \n",
       "\n",
       "                           Samolot Ofiary Ocaleni   Rok  \n",
       "8             Ford-4-AT-E-Trimotor              ?  1931  \n",
       "9             Ford-5-AT-B-Trimotor              ?  1932  \n",
       "11                   Ford Trimotor              ?  1933  \n",
       "14                    Douglas DC-2              ?  1935  \n",
       "33                    Douglas DC-3              ?  1941  \n",
       "45                    Douglas DC-3              ?  1944  \n",
       "46                    Douglas DC-3              ?  1944  \n",
       "48                    Douglas DC-3              ?  1945  \n",
       "51                    Douglas DC-3              ?  1946  \n",
       "54          Lockheed Constellation              ?  1946  \n",
       "55          Lockheed Constellation              ?  1947  \n",
       "61          Lockheed Constellation              ?  1947  \n",
       "72          Lockheed Constellation              ?  1948  \n",
       "76          Douglas C-54 Skymaster              ?  1949  \n",
       "141   Lockheed Super Constellation              ?  1959  \n",
       "274                     Boeing 707              ?  1969  \n",
       "609                     Boeing 767              ?  1987  \n",
       "780                   Boeing Ct-43            NaN  1996  \n",
       "847         McDonnell Douglas DC-9              ?  1999  \n",
       "851                            NaN            NaN  1999  \n",
       "1081                           NaN            NaN  2010  "
      ]
     },
     "execution_count": 10,
     "metadata": {},
     "output_type": "execute_result"
    }
   ],
   "source": [
    "crashes_df[\"Ofiary\"] = extract_first_numbers(crashes_df[\"Ofiary\"])\n",
    "crashes_df[crashes_df[\"Ofiary\"]=='']"
   ]
  },
  {
   "attachments": {},
   "cell_type": "markdown",
   "metadata": {},
   "source": [
    "## Survivors"
   ]
  },
  {
   "cell_type": "code",
   "execution_count": 11,
   "metadata": {},
   "outputs": [
    {
     "data": {
      "text/plain": [
       "array(['?', '0.', 2.0, 0.0, nan, 53.0, 272.0, 135.0, 158.0, 19.0, 50.0,\n",
       "       1.0], dtype=object)"
      ]
     },
     "execution_count": 11,
     "metadata": {},
     "output_type": "execute_result"
    }
   ],
   "source": [
    "find_non_numerical_unique_values(crashes_df[\"Ocaleni\"])"
   ]
  },
  {
   "cell_type": "code",
   "execution_count": 12,
   "metadata": {},
   "outputs": [
    {
     "data": {
      "text/html": [
       "<div>\n",
       "<style scoped>\n",
       "    .dataframe tbody tr th:only-of-type {\n",
       "        vertical-align: middle;\n",
       "    }\n",
       "\n",
       "    .dataframe tbody tr th {\n",
       "        vertical-align: top;\n",
       "    }\n",
       "\n",
       "    .dataframe thead th {\n",
       "        text-align: right;\n",
       "    }\n",
       "</style>\n",
       "<table border=\"1\" class=\"dataframe\">\n",
       "  <thead>\n",
       "    <tr style=\"text-align: right;\">\n",
       "      <th></th>\n",
       "      <th>Miejsce zdarzenia</th>\n",
       "      <th>Linia lotnicza</th>\n",
       "      <th>Samolot</th>\n",
       "      <th>Ofiary</th>\n",
       "      <th>Ocaleni</th>\n",
       "      <th>Rok</th>\n",
       "    </tr>\n",
       "  </thead>\n",
       "  <tbody>\n",
       "    <tr>\n",
       "      <th>8</th>\n",
       "      <td>Stany Zjednoczone</td>\n",
       "      <td>TWA</td>\n",
       "      <td>Ford-4-AT-E-Trimotor</td>\n",
       "      <td></td>\n",
       "      <td></td>\n",
       "      <td>1931</td>\n",
       "    </tr>\n",
       "    <tr>\n",
       "      <th>9</th>\n",
       "      <td>Stany Zjednoczone</td>\n",
       "      <td>TWA</td>\n",
       "      <td>Ford-5-AT-B-Trimotor</td>\n",
       "      <td></td>\n",
       "      <td></td>\n",
       "      <td>1932</td>\n",
       "    </tr>\n",
       "    <tr>\n",
       "      <th>11</th>\n",
       "      <td>Stany Zjednoczone</td>\n",
       "      <td>TWA</td>\n",
       "      <td>Ford Trimotor</td>\n",
       "      <td></td>\n",
       "      <td></td>\n",
       "      <td>1933</td>\n",
       "    </tr>\n",
       "    <tr>\n",
       "      <th>14</th>\n",
       "      <td>Stany Zjednoczone</td>\n",
       "      <td>TWA</td>\n",
       "      <td>Douglas DC-2</td>\n",
       "      <td></td>\n",
       "      <td></td>\n",
       "      <td>1935</td>\n",
       "    </tr>\n",
       "    <tr>\n",
       "      <th>33</th>\n",
       "      <td>Stany Zjednoczone</td>\n",
       "      <td>TWA</td>\n",
       "      <td>Douglas DC-3</td>\n",
       "      <td></td>\n",
       "      <td></td>\n",
       "      <td>1941</td>\n",
       "    </tr>\n",
       "    <tr>\n",
       "      <th>45</th>\n",
       "      <td>Stany Zjednoczone</td>\n",
       "      <td>TWA</td>\n",
       "      <td>Douglas DC-3</td>\n",
       "      <td></td>\n",
       "      <td></td>\n",
       "      <td>1944</td>\n",
       "    </tr>\n",
       "    <tr>\n",
       "      <th>46</th>\n",
       "      <td>Stany Zjednoczone</td>\n",
       "      <td>TWA</td>\n",
       "      <td>Douglas DC-3</td>\n",
       "      <td></td>\n",
       "      <td></td>\n",
       "      <td>1944</td>\n",
       "    </tr>\n",
       "    <tr>\n",
       "      <th>48</th>\n",
       "      <td>Stany Zjednoczone</td>\n",
       "      <td>TWA</td>\n",
       "      <td>Douglas DC-3</td>\n",
       "      <td></td>\n",
       "      <td></td>\n",
       "      <td>1945</td>\n",
       "    </tr>\n",
       "    <tr>\n",
       "      <th>51</th>\n",
       "      <td>Stany Zjednoczone</td>\n",
       "      <td>TWA</td>\n",
       "      <td>Douglas DC-3</td>\n",
       "      <td></td>\n",
       "      <td></td>\n",
       "      <td>1946</td>\n",
       "    </tr>\n",
       "    <tr>\n",
       "      <th>54</th>\n",
       "      <td>Stany Zjednoczone</td>\n",
       "      <td>TWA</td>\n",
       "      <td>Lockheed Constellation</td>\n",
       "      <td></td>\n",
       "      <td></td>\n",
       "      <td>1946</td>\n",
       "    </tr>\n",
       "    <tr>\n",
       "      <th>55</th>\n",
       "      <td>Stany Zjednoczone</td>\n",
       "      <td>TWA</td>\n",
       "      <td>Lockheed Constellation</td>\n",
       "      <td></td>\n",
       "      <td></td>\n",
       "      <td>1947</td>\n",
       "    </tr>\n",
       "    <tr>\n",
       "      <th>61</th>\n",
       "      <td>Stany Zjednoczone</td>\n",
       "      <td>TWA</td>\n",
       "      <td>Lockheed Constellation</td>\n",
       "      <td></td>\n",
       "      <td></td>\n",
       "      <td>1947</td>\n",
       "    </tr>\n",
       "    <tr>\n",
       "      <th>72</th>\n",
       "      <td>Stany Zjednoczone</td>\n",
       "      <td>TWA</td>\n",
       "      <td>Lockheed Constellation</td>\n",
       "      <td></td>\n",
       "      <td></td>\n",
       "      <td>1948</td>\n",
       "    </tr>\n",
       "    <tr>\n",
       "      <th>76</th>\n",
       "      <td>Kanada</td>\n",
       "      <td>TWA</td>\n",
       "      <td>Douglas C-54 Skymaster</td>\n",
       "      <td></td>\n",
       "      <td></td>\n",
       "      <td>1949</td>\n",
       "    </tr>\n",
       "    <tr>\n",
       "      <th>141</th>\n",
       "      <td>Stany Zjednoczone</td>\n",
       "      <td>TWA</td>\n",
       "      <td>Lockheed Super Constellation</td>\n",
       "      <td></td>\n",
       "      <td></td>\n",
       "      <td>1959</td>\n",
       "    </tr>\n",
       "    <tr>\n",
       "      <th>230</th>\n",
       "      <td>Stany Zjednoczone</td>\n",
       "      <td>West Coast Airlines</td>\n",
       "      <td>McDonnell Douglas DC-9</td>\n",
       "      <td>18</td>\n",
       "      <td></td>\n",
       "      <td>1966</td>\n",
       "    </tr>\n",
       "    <tr>\n",
       "      <th>257</th>\n",
       "      <td>Stany Zjednoczone</td>\n",
       "      <td>Northeast Airlines</td>\n",
       "      <td>Fokker F27</td>\n",
       "      <td>32</td>\n",
       "      <td></td>\n",
       "      <td>1968</td>\n",
       "    </tr>\n",
       "    <tr>\n",
       "      <th>274</th>\n",
       "      <td>Stany Zjednoczone</td>\n",
       "      <td>TWA</td>\n",
       "      <td>Boeing 707</td>\n",
       "      <td></td>\n",
       "      <td></td>\n",
       "      <td>1969</td>\n",
       "    </tr>\n",
       "    <tr>\n",
       "      <th>317</th>\n",
       "      <td>Stany Zjednoczone</td>\n",
       "      <td>Northwest Orient Airlines</td>\n",
       "      <td>Boeing 727-100</td>\n",
       "      <td>0</td>\n",
       "      <td></td>\n",
       "      <td>1971</td>\n",
       "    </tr>\n",
       "    <tr>\n",
       "      <th>609</th>\n",
       "      <td>Stany Zjednoczone</td>\n",
       "      <td>Trans World Airlines</td>\n",
       "      <td>Boeing 767</td>\n",
       "      <td></td>\n",
       "      <td></td>\n",
       "      <td>1987</td>\n",
       "    </tr>\n",
       "    <tr>\n",
       "      <th>780</th>\n",
       "      <td>Chorwacja</td>\n",
       "      <td>USAF</td>\n",
       "      <td>Boeing Ct-43</td>\n",
       "      <td></td>\n",
       "      <td></td>\n",
       "      <td>1996</td>\n",
       "    </tr>\n",
       "    <tr>\n",
       "      <th>847</th>\n",
       "      <td>Stany Zjednoczone</td>\n",
       "      <td>TWA</td>\n",
       "      <td>McDonnell Douglas DC-9</td>\n",
       "      <td></td>\n",
       "      <td></td>\n",
       "      <td>1999</td>\n",
       "    </tr>\n",
       "    <tr>\n",
       "      <th>851</th>\n",
       "      <td>Stany Zjednoczone</td>\n",
       "      <td>Samolot prywatny || ? || Learjet 35|| N47BA ||...</td>\n",
       "      <td>NaN</td>\n",
       "      <td></td>\n",
       "      <td></td>\n",
       "      <td>1999</td>\n",
       "    </tr>\n",
       "    <tr>\n",
       "      <th>871</th>\n",
       "      <td>Grecja</td>\n",
       "      <td>Malév</td>\n",
       "      <td>Tu-154</td>\n",
       "      <td>0</td>\n",
       "      <td></td>\n",
       "      <td>2000</td>\n",
       "    </tr>\n",
       "    <tr>\n",
       "      <th>904</th>\n",
       "      <td>Stany Zjednoczone</td>\n",
       "      <td>American Airlines</td>\n",
       "      <td>Boeing 767-300</td>\n",
       "      <td>0</td>\n",
       "      <td></td>\n",
       "      <td>2001</td>\n",
       "    </tr>\n",
       "    <tr>\n",
       "      <th>1074</th>\n",
       "      <td>Słowacja</td>\n",
       "      <td>Danube Wings</td>\n",
       "      <td>ATR 72</td>\n",
       "      <td>0</td>\n",
       "      <td></td>\n",
       "      <td>2010</td>\n",
       "    </tr>\n",
       "    <tr>\n",
       "      <th>1081</th>\n",
       "      <td>NaN</td>\n",
       "      <td>NaN</td>\n",
       "      <td>NaN</td>\n",
       "      <td></td>\n",
       "      <td></td>\n",
       "      <td>2010</td>\n",
       "    </tr>\n",
       "    <tr>\n",
       "      <th>1231</th>\n",
       "      <td>Rosja</td>\n",
       "      <td>Aerofłot</td>\n",
       "      <td>Airbus A321</td>\n",
       "      <td>0</td>\n",
       "      <td></td>\n",
       "      <td>2017</td>\n",
       "    </tr>\n",
       "    <tr>\n",
       "      <th>1237</th>\n",
       "      <td>Włochy</td>\n",
       "      <td>Ryanair</td>\n",
       "      <td>Boeing 737-800</td>\n",
       "      <td>0</td>\n",
       "      <td></td>\n",
       "      <td>2017</td>\n",
       "    </tr>\n",
       "  </tbody>\n",
       "</table>\n",
       "</div>"
      ],
      "text/plain": [
       "      Miejsce zdarzenia                                     Linia lotnicza   \n",
       "8     Stany Zjednoczone                                                TWA  \\\n",
       "9     Stany Zjednoczone                                                TWA   \n",
       "11    Stany Zjednoczone                                                TWA   \n",
       "14    Stany Zjednoczone                                                TWA   \n",
       "33    Stany Zjednoczone                                                TWA   \n",
       "45    Stany Zjednoczone                                                TWA   \n",
       "46    Stany Zjednoczone                                                TWA   \n",
       "48    Stany Zjednoczone                                                TWA   \n",
       "51    Stany Zjednoczone                                                TWA   \n",
       "54    Stany Zjednoczone                                                TWA   \n",
       "55    Stany Zjednoczone                                                TWA   \n",
       "61    Stany Zjednoczone                                                TWA   \n",
       "72    Stany Zjednoczone                                                TWA   \n",
       "76               Kanada                                                TWA   \n",
       "141   Stany Zjednoczone                                                TWA   \n",
       "230   Stany Zjednoczone                                West Coast Airlines   \n",
       "257   Stany Zjednoczone                                 Northeast Airlines   \n",
       "274   Stany Zjednoczone                                                TWA   \n",
       "317   Stany Zjednoczone                          Northwest Orient Airlines   \n",
       "609   Stany Zjednoczone                               Trans World Airlines   \n",
       "780           Chorwacja                                               USAF   \n",
       "847   Stany Zjednoczone                                                TWA   \n",
       "851   Stany Zjednoczone  Samolot prywatny || ? || Learjet 35|| N47BA ||...   \n",
       "871              Grecja                                              Malév   \n",
       "904   Stany Zjednoczone                                  American Airlines   \n",
       "1074           Słowacja                                       Danube Wings   \n",
       "1081                NaN                                                NaN   \n",
       "1231              Rosja                                           Aerofłot   \n",
       "1237             Włochy                                            Ryanair   \n",
       "\n",
       "                           Samolot Ofiary Ocaleni   Rok  \n",
       "8             Ford-4-AT-E-Trimotor                 1931  \n",
       "9             Ford-5-AT-B-Trimotor                 1932  \n",
       "11                   Ford Trimotor                 1933  \n",
       "14                    Douglas DC-2                 1935  \n",
       "33                    Douglas DC-3                 1941  \n",
       "45                    Douglas DC-3                 1944  \n",
       "46                    Douglas DC-3                 1944  \n",
       "48                    Douglas DC-3                 1945  \n",
       "51                    Douglas DC-3                 1946  \n",
       "54          Lockheed Constellation                 1946  \n",
       "55          Lockheed Constellation                 1947  \n",
       "61          Lockheed Constellation                 1947  \n",
       "72          Lockheed Constellation                 1948  \n",
       "76          Douglas C-54 Skymaster                 1949  \n",
       "141   Lockheed Super Constellation                 1959  \n",
       "230         McDonnell Douglas DC-9     18          1966  \n",
       "257                     Fokker F27     32          1968  \n",
       "274                     Boeing 707                 1969  \n",
       "317                 Boeing 727-100      0          1971  \n",
       "609                     Boeing 767                 1987  \n",
       "780                   Boeing Ct-43                 1996  \n",
       "847         McDonnell Douglas DC-9                 1999  \n",
       "851                            NaN                 1999  \n",
       "871                         Tu-154      0          2000  \n",
       "904                 Boeing 767-300      0          2001  \n",
       "1074                        ATR 72      0          2010  \n",
       "1081                           NaN                 2010  \n",
       "1231                   Airbus A321      0          2017  \n",
       "1237                Boeing 737-800      0          2017  "
      ]
     },
     "execution_count": 12,
     "metadata": {},
     "output_type": "execute_result"
    }
   ],
   "source": [
    "crashes_df[\"Ocaleni\"] = extract_first_numbers(crashes_df[\"Ocaleni\"])\n",
    "crashes_df[crashes_df[\"Ocaleni\"]=='']"
   ]
  },
  {
   "cell_type": "code",
   "execution_count": 13,
   "metadata": {},
   "outputs": [
    {
     "name": "stdout",
     "output_type": "stream",
     "text": [
      "Number of rows with incomplete survivors or victims data: 29\n"
     ]
    }
   ],
   "source": [
    "incomplete_death_ratio_data_mask = (\n",
    "    (crashes_df[\"Ocaleni\"]=='')\n",
    "    | (crashes_df[\"Ofiary\"]=='')\n",
    ")\n",
    "\n",
    "print(\n",
    "    \"Number of rows with incomplete survivors or victims data:\", \n",
    "    incomplete_death_ratio_data_mask.sum()\n",
    ")\n",
    "\n",
    "# crashes_df[incomplete_death_ratio_data_mask]"
   ]
  },
  {
   "cell_type": "code",
   "execution_count": 14,
   "metadata": {},
   "outputs": [],
   "source": [
    "crashes_without_death_ratio_df = crashes_df[incomplete_death_ratio_data_mask]\n",
    "crashes_df = crashes_df[~incomplete_death_ratio_data_mask]"
   ]
  },
  {
   "attachments": {},
   "cell_type": "markdown",
   "metadata": {},
   "source": [
    "## place of the crash"
   ]
  },
  {
   "cell_type": "code",
   "execution_count": 15,
   "metadata": {},
   "outputs": [
    {
     "data": {
      "text/plain": [
       "array(['Włochy', 'Francja', 'Stany Zjednoczone', 'Australia', 'Belgia',\n",
       "       'III Rzesza', 'Wielka Brytania', 'Polska', 'Bułgaria',\n",
       "       'Samoa Amerykańskie', 'Rumunia', 'Finlandia',\n",
       "       'Holenderskie Indie Wschodnie', 'Holandia', 'Argentyna',\n",
       "       'Norwegia', 'Bermudy', 'Niemcy', 'Chiny', 'Kanada', 'Portugalia',\n",
       "       'Egipt', 'Liberia', 'Portoryko', 'Brazylia', 'Indie', 'Irlandia',\n",
       "       'Indonezja', 'ZSRR', 'Ocean Spokojny', 'Libia', 'Liban', 'Turcja',\n",
       "       'Jamajka', 'Etiopia', 'RFN', 'Maroko', 'Kamerun', 'Gwadelupa',\n",
       "       'Tajlandia', 'Nepal', 'Nowa Zelandia', 'Szwajcaria', 'Austria',\n",
       "       'Tajwan', 'Szwecja', 'Chile', 'Hiszpania', 'Montserrat',\n",
       "       'Kolumbia', 'Japonia', 'Czechosłowacja', 'Południowa Afryka',\n",
       "       'Cypr', 'Grecja', 'Łotwa', 'Namibia', 'Wenezuela', 'Meksyk',\n",
       "       'Filipiny', 'Korea Południowa', 'Samoa', 'Dominikana', 'Peru',\n",
       "       'Bahrajn', 'Jugosławia', 'Jemen', 'Zjednoczone Emiraty Arabskie',\n",
       "       'Wietnam', 'NRD', 'Pakistan', 'Polinezja Francuska', 'Iran',\n",
       "       'Kenia', 'Sri Lanka', 'Syria', 'Arabia Saudyjska',\n",
       "       'Gwinea Równikowa', 'Guam', 'Ekwador', 'Barbados', 'Gwatemala',\n",
       "       'Zambia', 'Kuba', 'Malezja', 'Bangladesz', 'Zimbabwe', 'Katar',\n",
       "       'Antarktyka', 'Bahamy', 'Afganistan', 'Mikronezja', 'Armenia',\n",
       "       'Somalia', 'Luksemburg', 'Angola', 'Boliwia', 'Malta',\n",
       "       'Saint Vincent i Grenadyny', 'Sudan Południowy',\n",
       "       'Wybrzeże Kości Słoniowej', 'Fidżi', 'Mauritius', 'Birma', 'Azory',\n",
       "       'Surinam', 'Dania', 'Niger', 'Honduras', 'Kostaryka', 'Kuwejt',\n",
       "       'Singapur', 'Panama', 'Rosja', 'Macedonia Północna', 'Gruzja',\n",
       "       'Hongkong', 'Mauretania', 'Nigeria', 'Algieria', 'Salwador',\n",
       "       'Mongolia', 'Azerbejdżan', 'Haiti',\n",
       "       'Demokratyczna Republika Konga', 'Serbia', 'Komory', 'Kambodża',\n",
       "       'Urugwaj', 'Mjanma', 'Republika Zielonego Przylądka', 'Kosowo',\n",
       "       'Sudan', 'Dżibuti', 'Ukraina', 'Tunezja', 'Kongo', 'Irak', 'Benin',\n",
       "       'Uzbekistan', 'Gabon', 'Czad', 'Litwa', 'Kirgistan',\n",
       "       'Papua-Nowa Gwinea', 'Antyle Holenderskie', 'Rwanda', 'Estonia',\n",
       "       'Gujana', 'Ghana', 'Antigua i Barbuda', 'Kazachstan', 'Laos',\n",
       "       'Mali', 'Senegal', 'Grenlandia', 'Vanuatu', 'Białoruś', 'Paragwaj',\n",
       "       'Tanzania'], dtype=object)"
      ]
     },
     "execution_count": 15,
     "metadata": {},
     "output_type": "execute_result"
    }
   ],
   "source": [
    "crashes_df[\"Miejsce zdarzenia\"].unique()"
   ]
  },
  {
   "cell_type": "code",
   "execution_count": 16,
   "metadata": {},
   "outputs": [
    {
     "data": {
      "text/html": [
       "<div>\n",
       "<style scoped>\n",
       "    .dataframe tbody tr th:only-of-type {\n",
       "        vertical-align: middle;\n",
       "    }\n",
       "\n",
       "    .dataframe tbody tr th {\n",
       "        vertical-align: top;\n",
       "    }\n",
       "\n",
       "    .dataframe thead th {\n",
       "        text-align: right;\n",
       "    }\n",
       "</style>\n",
       "<table border=\"1\" class=\"dataframe\">\n",
       "  <thead>\n",
       "    <tr style=\"text-align: right;\">\n",
       "      <th></th>\n",
       "      <th>Miejsce zdarzenia</th>\n",
       "      <th>Linia lotnicza</th>\n",
       "      <th>Samolot</th>\n",
       "      <th>Ofiary</th>\n",
       "      <th>Ocaleni</th>\n",
       "      <th>Rok</th>\n",
       "    </tr>\n",
       "  </thead>\n",
       "  <tbody>\n",
       "  </tbody>\n",
       "</table>\n",
       "</div>"
      ],
      "text/plain": [
       "Empty DataFrame\n",
       "Columns: [Miejsce zdarzenia, Linia lotnicza, Samolot, Ofiary, Ocaleni, Rok]\n",
       "Index: []"
      ]
     },
     "execution_count": 16,
     "metadata": {},
     "output_type": "execute_result"
    }
   ],
   "source": [
    "crashes_df[crashes_df[\"Miejsce zdarzenia\"].isna()]"
   ]
  },
  {
   "cell_type": "code",
   "execution_count": 17,
   "metadata": {},
   "outputs": [
    {
     "data": {
      "text/plain": [
       "1297"
      ]
     },
     "execution_count": 17,
     "metadata": {},
     "output_type": "execute_result"
    }
   ],
   "source": [
    "crashes_df = crashes_df[~crashes_df[\"Miejsce zdarzenia\"].isna()]\n",
    "len(crashes_df)"
   ]
  },
  {
   "attachments": {},
   "cell_type": "markdown",
   "metadata": {},
   "source": [
    "## airline"
   ]
  },
  {
   "cell_type": "code",
   "execution_count": 18,
   "metadata": {},
   "outputs": [],
   "source": [
    "# about three cells contains two airlines separated by slash, as one string, \n",
    "# probably i will do nothing about this because for now I dont care about airlines\n",
    "# sorted(crashes_df[\"Linia lotnicza\"].unique())"
   ]
  },
  {
   "cell_type": "code",
   "execution_count": 19,
   "metadata": {},
   "outputs": [],
   "source": [
    "# crashes_df[\"Linia lotnicza\"].unique()"
   ]
  },
  {
   "cell_type": "code",
   "execution_count": 20,
   "metadata": {},
   "outputs": [
    {
     "data": {
      "text/plain": [
       "array(['?', 'Trans-Canada Airlines', 'Trans-Canada Air Lines',\n",
       "       'Dan-Air London', 'Dan-Air', 'Trans-Colorado Airlines',\n",
       "       'Tan – SAHSA', \"L'Express Airlines\", 'Bristow Helicopters Ltd.',\n",
       "       'Hapag-Lloyd Airlines', 'Shangri-La Air', 'Volga-AviaExpress',\n",
       "       \"Chalk's Ocean Airways\", 'AerianTur-M', 'One-Two-GO Airlines',\n",
       "       'Aviastar-TU', 'Petropavlovsk-Kamchatsky Air',\n",
       "       'Alitalia/Carpatair', 'Sepahan Air/Taban Air',\n",
       "       'US-Bangla Airlines', 'Cubana de Aviación/Global Air',\n",
       "       'Atlas Air/Amazon Prime Air', 'Volga-Dnepr Airlines',\n",
       "       'Petropavlovsk-Kamchatsky Air Enterprise'], dtype=object)"
      ]
     },
     "execution_count": 20,
     "metadata": {},
     "output_type": "execute_result"
    }
   ],
   "source": [
    "def find_non_alpha_unique_values(ds: pd.Series) -> np.array:\n",
    "    return ds[ds.str.contains(r\"[^\\w\\s]\")].unique()\n",
    "\n",
    "find_non_alpha_unique_values(crashes_df[\"Linia lotnicza\"])"
   ]
  },
  {
   "cell_type": "code",
   "execution_count": 21,
   "metadata": {},
   "outputs": [
    {
     "data": {
      "text/html": [
       "<div>\n",
       "<style scoped>\n",
       "    .dataframe tbody tr th:only-of-type {\n",
       "        vertical-align: middle;\n",
       "    }\n",
       "\n",
       "    .dataframe tbody tr th {\n",
       "        vertical-align: top;\n",
       "    }\n",
       "\n",
       "    .dataframe thead th {\n",
       "        text-align: right;\n",
       "    }\n",
       "</style>\n",
       "<table border=\"1\" class=\"dataframe\">\n",
       "  <thead>\n",
       "    <tr style=\"text-align: right;\">\n",
       "      <th></th>\n",
       "      <th>Miejsce zdarzenia</th>\n",
       "      <th>Linia lotnicza</th>\n",
       "      <th>Samolot</th>\n",
       "      <th>Ofiary</th>\n",
       "      <th>Ocaleni</th>\n",
       "      <th>Rok</th>\n",
       "    </tr>\n",
       "  </thead>\n",
       "  <tbody>\n",
       "    <tr>\n",
       "      <th>5</th>\n",
       "      <td>Francja</td>\n",
       "      <td>?</td>\n",
       "      <td>?</td>\n",
       "      <td>48</td>\n",
       "      <td>0</td>\n",
       "      <td>1930</td>\n",
       "    </tr>\n",
       "  </tbody>\n",
       "</table>\n",
       "</div>"
      ],
      "text/plain": [
       "  Miejsce zdarzenia Linia lotnicza Samolot Ofiary Ocaleni   Rok\n",
       "5           Francja              ?       ?     48       0  1930"
      ]
     },
     "execution_count": 21,
     "metadata": {},
     "output_type": "execute_result"
    }
   ],
   "source": [
    "crashes_df[crashes_df[\"Linia lotnicza\"]=='?']\n",
    "# https://en.wikipedia.org/wiki/R101\n",
    "# \" killing 48 of the 54 people on board\" <- perhaps there are errors in data"
   ]
  },
  {
   "attachments": {},
   "cell_type": "markdown",
   "metadata": {},
   "source": [
    "## Fix types"
   ]
  },
  {
   "cell_type": "code",
   "execution_count": 22,
   "metadata": {},
   "outputs": [
    {
     "data": {
      "text/plain": [
       "Miejsce zdarzenia    object\n",
       "Linia lotnicza       object\n",
       "Samolot              object\n",
       "Ofiary                int64\n",
       "Ocaleni               int64\n",
       "Rok                   int64\n",
       "dtype: object"
      ]
     },
     "execution_count": 22,
     "metadata": {},
     "output_type": "execute_result"
    }
   ],
   "source": [
    "crashes_df[[\"Ofiary\", \"Ocaleni\"]] = crashes_df[[\"Ofiary\", \"Ocaleni\"]].astype(int)\n",
    "crashes_df.dtypes"
   ]
  },
  {
   "cell_type": "markdown",
   "metadata": {},
   "source": [
    "# Data Analyze"
   ]
  },
  {
   "cell_type": "code",
   "execution_count": 23,
   "metadata": {},
   "outputs": [
    {
     "data": {
      "text/html": [
       "<div>\n",
       "<style scoped>\n",
       "    .dataframe tbody tr th:only-of-type {\n",
       "        vertical-align: middle;\n",
       "    }\n",
       "\n",
       "    .dataframe tbody tr th {\n",
       "        vertical-align: top;\n",
       "    }\n",
       "\n",
       "    .dataframe thead th {\n",
       "        text-align: right;\n",
       "    }\n",
       "</style>\n",
       "<table border=\"1\" class=\"dataframe\">\n",
       "  <thead>\n",
       "    <tr style=\"text-align: right;\">\n",
       "      <th></th>\n",
       "      <th>Ofiary</th>\n",
       "      <th>Ocaleni</th>\n",
       "      <th>Rok</th>\n",
       "    </tr>\n",
       "  </thead>\n",
       "  <tbody>\n",
       "    <tr>\n",
       "      <th>count</th>\n",
       "      <td>1297.000000</td>\n",
       "      <td>1297.000000</td>\n",
       "      <td>1297.000000</td>\n",
       "    </tr>\n",
       "    <tr>\n",
       "      <th>mean</th>\n",
       "      <td>42.745567</td>\n",
       "      <td>40.915189</td>\n",
       "      <td>1987.962992</td>\n",
       "    </tr>\n",
       "    <tr>\n",
       "      <th>std</th>\n",
       "      <td>56.464946</td>\n",
       "      <td>78.436982</td>\n",
       "      <td>21.461892</td>\n",
       "    </tr>\n",
       "    <tr>\n",
       "      <th>min</th>\n",
       "      <td>0.000000</td>\n",
       "      <td>0.000000</td>\n",
       "      <td>1919.000000</td>\n",
       "    </tr>\n",
       "    <tr>\n",
       "      <th>25%</th>\n",
       "      <td>2.000000</td>\n",
       "      <td>0.000000</td>\n",
       "      <td>1972.000000</td>\n",
       "    </tr>\n",
       "    <tr>\n",
       "      <th>50%</th>\n",
       "      <td>21.000000</td>\n",
       "      <td>1.000000</td>\n",
       "      <td>1990.000000</td>\n",
       "    </tr>\n",
       "    <tr>\n",
       "      <th>75%</th>\n",
       "      <td>62.000000</td>\n",
       "      <td>43.000000</td>\n",
       "      <td>2007.000000</td>\n",
       "    </tr>\n",
       "    <tr>\n",
       "      <th>max</th>\n",
       "      <td>520.000000</td>\n",
       "      <td>521.000000</td>\n",
       "      <td>2023.000000</td>\n",
       "    </tr>\n",
       "  </tbody>\n",
       "</table>\n",
       "</div>"
      ],
      "text/plain": [
       "            Ofiary      Ocaleni          Rok\n",
       "count  1297.000000  1297.000000  1297.000000\n",
       "mean     42.745567    40.915189  1987.962992\n",
       "std      56.464946    78.436982    21.461892\n",
       "min       0.000000     0.000000  1919.000000\n",
       "25%       2.000000     0.000000  1972.000000\n",
       "50%      21.000000     1.000000  1990.000000\n",
       "75%      62.000000    43.000000  2007.000000\n",
       "max     520.000000   521.000000  2023.000000"
      ]
     },
     "execution_count": 23,
     "metadata": {},
     "output_type": "execute_result"
    }
   ],
   "source": [
    "crashes_df.describe()"
   ]
  },
  {
   "attachments": {},
   "cell_type": "markdown",
   "metadata": {},
   "source": [
    "- [Article](https://en.wikipedia.org/wiki/Air_France_Flight_066) about Plane crash with biggest number of survivors \n",
    "- [English](https://en.wikipedia.org/wiki/Japan_Air_Lines_Flight_123) and [Polish](https://pl.wikipedia.org/wiki/Katastrofa_lotu_Japan_Airlines_123) articles about most deadliest plane crash."
   ]
  },
  {
   "cell_type": "code",
   "execution_count": 24,
   "metadata": {},
   "outputs": [
    {
     "name": "stdout",
     "output_type": "stream",
     "text": [
      "Death ratio 0.5109392855826298\n"
     ]
    }
   ],
   "source": [
    "all_victims, all_survivors = crashes_df[[\"Ofiary\", \"Ocaleni\"]].sum()\n",
    "print(f\"Death ratio {all_victims/(all_victims+all_survivors)}\")"
   ]
  },
  {
   "attachments": {},
   "cell_type": "markdown",
   "metadata": {},
   "source": [
    "Global death ratio for plane crashes are surprisingly close to 0.5. \n",
    "I though that usually on one survive plane crash. \n",
    "My wrong opinion is caused by fact that I didn't realize, this dataset contains \n",
    "not only examples when planes actually hit the ground during crash, but also\n",
    "all malfunctions that caused emergency landings."
   ]
  },
  {
   "cell_type": "code",
   "execution_count": 90,
   "metadata": {},
   "outputs": [
    {
     "data": {
      "image/png": "[encoded data removed]",
      "text/plain": [
       "<Figure size 640x480 with 2 Axes>"
      ]
     },
     "metadata": {},
     "output_type": "display_data"
    },
    {
     "data": {
      "image/png": "[encoded data removed]",
      "text/plain": [
       "<Figure size 640x480 with 1 Axes>"
      ]
     },
     "metadata": {},
     "output_type": "display_data"
    }
   ],
   "source": [
    "fig, (ax1, ax2) = plt.subplots(1, 2)\n",
    "plt.sca(ax1)\n",
    "(\n",
    "    crashes_df[[\"Ofiary\", \"Ocaleni\", \"Rok\"]]\n",
    "    .groupby(\"Rok\")\n",
    "    .agg(np.mean)\n",
    "    .plot(kind=\"area\", alpha=0.5, stacked=False)\n",
    ")\n",
    "plt.title(\"Przeżywalność katastrof lotniczych w latach\")\n",
    "\n",
    "plt.sca(ax2)"
   ]
  },
  {
   "cell_type": "code",
   "execution_count": 26,
   "metadata": {},
   "outputs": [
    {
     "data": {
      "text/plain": [
       "Ilość katastrof    8.10625\n",
       "dtype: float64"
      ]
     },
     "execution_count": 26,
     "metadata": {},
     "output_type": "execute_result"
    },
    {
     "data": {
      "image/png": "[encoded data removed]",
      "text/plain": [
       "<Figure size 640x480 with 1 Axes>"
      ]
     },
     "metadata": {},
     "output_type": "display_data"
    }
   ],
   "source": [
    "crashes_by_country = (\n",
    "    crashes_df[[\"Rok\", \"Miejsce zdarzenia\"]]\n",
    "    .groupby(\"Miejsce zdarzenia\")\n",
    "    .agg(\"count\")\n",
    "    .rename({\"Rok\": \"Ilość katastrof\"}, axis=1)\n",
    "    .sort_values(\"Ilość katastrof\")\n",
    ")\n",
    "(\n",
    "    crashes_by_country\n",
    "    .iloc[-10:]\n",
    "    .plot.bar()\n",
    ")\n",
    "plt.title(\"10 krajów z największą ilością katastrof\")\n",
    "crashes_by_country.mean()"
   ]
  },
  {
   "cell_type": "code",
   "execution_count": 27,
   "metadata": {},
   "outputs": [
    {
     "name": "stdout",
     "output_type": "stream",
     "text": [
      "death rate 0.46727635759465996\n"
     ]
    },
    {
     "data": {
      "text/html": [
       "<div>\n",
       "<style scoped>\n",
       "    .dataframe tbody tr th:only-of-type {\n",
       "        vertical-align: middle;\n",
       "    }\n",
       "\n",
       "    .dataframe tbody tr th {\n",
       "        vertical-align: top;\n",
       "    }\n",
       "\n",
       "    .dataframe thead th {\n",
       "        text-align: right;\n",
       "    }\n",
       "</style>\n",
       "<table border=\"1\" class=\"dataframe\">\n",
       "  <thead>\n",
       "    <tr style=\"text-align: right;\">\n",
       "      <th></th>\n",
       "      <th>Ofiary</th>\n",
       "      <th>Ocaleni</th>\n",
       "      <th>Rok</th>\n",
       "    </tr>\n",
       "  </thead>\n",
       "  <tbody>\n",
       "    <tr>\n",
       "      <th>count</th>\n",
       "      <td>13.000000</td>\n",
       "      <td>13.000000</td>\n",
       "      <td>13.000000</td>\n",
       "    </tr>\n",
       "    <tr>\n",
       "      <th>mean</th>\n",
       "      <td>30.307692</td>\n",
       "      <td>32.769231</td>\n",
       "      <td>1972.923077</td>\n",
       "    </tr>\n",
       "    <tr>\n",
       "      <th>std</th>\n",
       "      <td>52.789495</td>\n",
       "      <td>63.136299</td>\n",
       "      <td>21.986593</td>\n",
       "    </tr>\n",
       "    <tr>\n",
       "      <th>min</th>\n",
       "      <td>0.000000</td>\n",
       "      <td>0.000000</td>\n",
       "      <td>1936.000000</td>\n",
       "    </tr>\n",
       "    <tr>\n",
       "      <th>25%</th>\n",
       "      <td>1.000000</td>\n",
       "      <td>0.000000</td>\n",
       "      <td>1962.000000</td>\n",
       "    </tr>\n",
       "    <tr>\n",
       "      <th>50%</th>\n",
       "      <td>4.000000</td>\n",
       "      <td>10.000000</td>\n",
       "      <td>1980.000000</td>\n",
       "    </tr>\n",
       "    <tr>\n",
       "      <th>75%</th>\n",
       "      <td>33.000000</td>\n",
       "      <td>28.000000</td>\n",
       "      <td>1987.000000</td>\n",
       "    </tr>\n",
       "    <tr>\n",
       "      <th>max</th>\n",
       "      <td>183.000000</td>\n",
       "      <td>231.000000</td>\n",
       "      <td>2011.000000</td>\n",
       "    </tr>\n",
       "  </tbody>\n",
       "</table>\n",
       "</div>"
      ],
      "text/plain": [
       "           Ofiary     Ocaleni          Rok\n",
       "count   13.000000   13.000000    13.000000\n",
       "mean    30.307692   32.769231  1972.923077\n",
       "std     52.789495   63.136299    21.986593\n",
       "min      0.000000    0.000000  1936.000000\n",
       "25%      1.000000    0.000000  1962.000000\n",
       "50%      4.000000   10.000000  1980.000000\n",
       "75%     33.000000   28.000000  1987.000000\n",
       "max    183.000000  231.000000  2011.000000"
      ]
     },
     "execution_count": 27,
     "metadata": {},
     "output_type": "execute_result"
    }
   ],
   "source": [
    "\n",
    "polish_crashes = crashes_df[crashes_df[\"Miejsce zdarzenia\"]==\"Polska\"]\n",
    "print(\"death rate\", np.mean(polish_crashes[\"Ofiary\"]/(polish_crashes[\"Ofiary\"] + polish_crashes[\"Ocaleni\"])))\n",
    "polish_crashes.describe()\n"
   ]
  },
  {
   "attachments": {},
   "cell_type": "markdown",
   "metadata": {},
   "source": [
    "[Biggest Polish crash](https://pl.wikipedia.org/wiki/Katastrofa_lotnicza_w_Lesie_Kabackim) "
   ]
  },
  {
   "cell_type": "code",
   "execution_count": 86,
   "metadata": {},
   "outputs": [
    {
     "data": {
      "text/plain": [
       "Text(0.5, 1.0, 'Ilość wypadków lotniczych w latach')"
      ]
     },
     "execution_count": 86,
     "metadata": {},
     "output_type": "execute_result"
    },
    {
     "data": {
      "image/png": "[encoded data removed]",
      "text/plain": [
       "<Figure size 640x480 with 1 Axes>"
      ]
     },
     "metadata": {},
     "output_type": "display_data"
    }
   ],
   "source": [
    "polish_crashes[\"Rok\"].hist(bins=5)\n",
    "plt.title(\"Ilość wypadków lotniczych w latach\")\n",
    "    "
   ]
  }
 ],
 "metadata": {
  "kernelspec": {
   "display_name": "Python 3",
   "language": "python",
   "name": "python3"
  },
  "language_info": {
   "codemirror_mode": {
    "name": "ipython",
    "version": 3
   },
   "file_extension": ".py",
   "mimetype": "text/x-python",
   "name": "python",
   "nbconvert_exporter": "python",
   "pygments_lexer": "ipython3",
   "version": "3.10.6"
  },
  "orig_nbformat": 4
 },
 "nbformat": 4,
 "nbformat_minor": 2
}
